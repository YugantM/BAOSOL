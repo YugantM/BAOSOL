{
 "cells": [
  {
   "cell_type": "code",
   "execution_count": 141,
   "metadata": {},
   "outputs": [],
   "source": [
    "import pandas as pd"
   ]
  },
  {
   "cell_type": "code",
   "execution_count": 142,
   "metadata": {},
   "outputs": [],
   "source": [
    "import textcleaner as tc"
   ]
  },
  {
   "cell_type": "markdown",
   "metadata": {},
   "source": [
    "I have manually converted the table from pdf to csv."
   ]
  },
  {
   "cell_type": "code",
   "execution_count": 151,
   "metadata": {},
   "outputs": [],
   "source": [
    "# reading the csv file as a Dataframe\n",
    "data = pd.read_csv('data.csv',sep=';',index_col=0)\n",
    "\n",
    "# droping column if whole column contains NaN values\n",
    "data.dropna(how='all', axis='columns',inplace=True)\n",
    "\n",
    "# if anywhere in a row the cell has NaN value replacing it with \" \" (whitespace)\n",
    "data.fillna(\" \",inplace=True)"
   ]
  },
  {
   "cell_type": "code",
   "execution_count": 144,
   "metadata": {},
   "outputs": [],
   "source": [
    "# extracting the text data from the csv\n",
    "text_data = list(data['text'])\n",
    "\n",
    "# deleting the result!\n",
    "del data['result']"
   ]
  },
  {
   "cell_type": "code",
   "execution_count": 155,
   "metadata": {},
   "outputs": [],
   "source": [
    "# text pre-processing with textcleaner: \n",
    "# converting whole text to lowercase\n",
    "text_data = tc.lower_all(text_data)\n",
    "# removing symbols such as \", ; . & $ etc..\"\n",
    "text_data = tc.remove_symbols(text_data)"
   ]
  },
  {
   "cell_type": "code",
   "execution_count": 159,
   "metadata": {},
   "outputs": [],
   "source": [
    "# list containing the phone number\n",
    "result = []\n",
    "\n",
    "# list containing boolean values showing presence of keyword in the sentence.\n",
    "contains = []\n",
    "\n",
    "\n",
    "for each_row in text_data:\n",
    "\n",
    "    keyword = 'phone number'\n",
    "    \n",
    "    contains.append(keyword in each_row)\n",
    "    \n",
    "    # if keyword is present\n",
    "    if keyword in each_row:\n",
    "            \n",
    "        # splitting the sentence by the keyword and joining it back with \" \"\n",
    "        # creating a list by again spliting to check if each token is a number\n",
    "        temp = [each for each in \" \".join(each_row.split(keyword)).split(\" \") if each.isdigit()]\n",
    "        \n",
    "        # if temp contains more than one number then appending it to result by joining with \",\" \n",
    "        if len(temp)>1:\n",
    "            result.append(\",\".join(temp))\n",
    "        else:\n",
    "            result.append(\"\".join(temp))\n",
    "        \n",
    "    # if keyword is not present\n",
    "    else:\n",
    "        result.append(\"NA\")\n",
    "    "
   ]
  },
  {
   "cell_type": "code",
   "execution_count": 162,
   "metadata": {},
   "outputs": [],
   "source": [
    "# assigning respective columns to the dataframe\n",
    "data['result'] = result\n",
    "data['keyword present'] = contains"
   ]
  },
  {
   "cell_type": "code",
   "execution_count": 163,
   "metadata": {},
   "outputs": [
    {
     "data": {
      "text/html": [
       "<div>\n",
       "<style scoped>\n",
       "    .dataframe tbody tr th:only-of-type {\n",
       "        vertical-align: middle;\n",
       "    }\n",
       "\n",
       "    .dataframe tbody tr th {\n",
       "        vertical-align: top;\n",
       "    }\n",
       "\n",
       "    .dataframe thead th {\n",
       "        text-align: right;\n",
       "    }\n",
       "</style>\n",
       "<table border=\"1\" class=\"dataframe\">\n",
       "  <thead>\n",
       "    <tr style=\"text-align: right;\">\n",
       "      <th></th>\n",
       "      <th>text</th>\n",
       "      <th>result</th>\n",
       "      <th>keyword present</th>\n",
       "    </tr>\n",
       "    <tr>\n",
       "      <th>id</th>\n",
       "      <th></th>\n",
       "      <th></th>\n",
       "      <th></th>\n",
       "    </tr>\n",
       "  </thead>\n",
       "  <tbody>\n",
       "    <tr>\n",
       "      <th>1</th>\n",
       "      <td>This is a sample text provided for training pu...</td>\n",
       "      <td>123456</td>\n",
       "      <td>True</td>\n",
       "    </tr>\n",
       "    <tr>\n",
       "      <th>2</th>\n",
       "      <td>Another sample text with a phone number. Phone...</td>\n",
       "      <td>432562143</td>\n",
       "      <td>True</td>\n",
       "    </tr>\n",
       "    <tr>\n",
       "      <th>3</th>\n",
       "      <td>phone number: 654321</td>\n",
       "      <td>654321</td>\n",
       "      <td>True</td>\n",
       "    </tr>\n",
       "    <tr>\n",
       "      <th>4</th>\n",
       "      <td>not a phone number: 23456211</td>\n",
       "      <td>23456211</td>\n",
       "      <td>True</td>\n",
       "    </tr>\n",
       "    <tr>\n",
       "      <th>5</th>\n",
       "      <td>just a number: 123432</td>\n",
       "      <td>NA</td>\n",
       "      <td>False</td>\n",
       "    </tr>\n",
       "    <tr>\n",
       "      <th>6</th>\n",
       "      <td>text without a phone number</td>\n",
       "      <td></td>\n",
       "      <td>True</td>\n",
       "    </tr>\n",
       "    <tr>\n",
       "      <th>7</th>\n",
       "      <td></td>\n",
       "      <td>NA</td>\n",
       "      <td>False</td>\n",
       "    </tr>\n",
       "    <tr>\n",
       "      <th>8</th>\n",
       "      <td>phone number: 654321, and another one, phone n...</td>\n",
       "      <td>654321,43256123</td>\n",
       "      <td>True</td>\n",
       "    </tr>\n",
       "  </tbody>\n",
       "</table>\n",
       "</div>"
      ],
      "text/plain": [
       "                                                 text           result  \\\n",
       "id                                                                       \n",
       "1   This is a sample text provided for training pu...           123456   \n",
       "2   Another sample text with a phone number. Phone...        432562143   \n",
       "3                                phone number: 654321           654321   \n",
       "4                        not a phone number: 23456211         23456211   \n",
       "5                               just a number: 123432               NA   \n",
       "6                         text without a phone number                    \n",
       "7                                                                   NA   \n",
       "8   phone number: 654321, and another one, phone n...  654321,43256123   \n",
       "\n",
       "    keyword present  \n",
       "id                   \n",
       "1              True  \n",
       "2              True  \n",
       "3              True  \n",
       "4              True  \n",
       "5             False  \n",
       "6              True  \n",
       "7             False  \n",
       "8              True  "
      ]
     },
     "execution_count": 163,
     "metadata": {},
     "output_type": "execute_result"
    }
   ],
   "source": [
    "# final output\n",
    "data"
   ]
  },
  {
   "cell_type": "code",
   "execution_count": null,
   "metadata": {},
   "outputs": [],
   "source": []
  }
 ],
 "metadata": {
  "kernelspec": {
   "display_name": "Python 3",
   "language": "python",
   "name": "python3"
  },
  "language_info": {
   "codemirror_mode": {
    "name": "ipython",
    "version": 3
   },
   "file_extension": ".py",
   "mimetype": "text/x-python",
   "name": "python",
   "nbconvert_exporter": "python",
   "pygments_lexer": "ipython3",
   "version": "3.8.5"
  }
 },
 "nbformat": 4,
 "nbformat_minor": 4
}
